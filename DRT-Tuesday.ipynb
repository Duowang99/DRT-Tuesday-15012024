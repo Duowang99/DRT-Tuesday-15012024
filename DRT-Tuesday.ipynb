{
  "cells": [
    {
      "cell_type": "markdown",
      "metadata": {
        "id": "view-in-github",
        "colab_type": "text"
      },
      "source": [
        "<a href=\"https://colab.research.google.com/github/Duowang99/DRT-Tuesday-15012024/blob/main/DRT-Tuesday.ipynb\" target=\"_parent\"><img src=\"https://colab.research.google.com/assets/colab-badge.svg\" alt=\"Open In Colab\"/></a>"
      ]
    },
    {
      "cell_type": "code",
      "execution_count": null,
      "id": "0c022524",
      "metadata": {
        "id": "0c022524"
      },
      "outputs": [],
      "source": [
        "import numpy as np\n",
        "import networkx as nx\n",
        "import sys\n",
        "import random\n",
        "import pylab\n",
        "import matplotlib.pyplot as plt\n",
        "import matplotlib.image as mping\n",
        "import math\n",
        "\n",
        "import graph\n",
        "import ptline"
      ]
    },
    {
      "cell_type": "markdown",
      "id": "c1932a2a",
      "metadata": {
        "id": "c1932a2a"
      },
      "source": [
        "## 1. Load data ( Metro lines of Montreal )"
      ]
    },
    {
      "cell_type": "code",
      "execution_count": null,
      "id": "1b71c03f",
      "metadata": {
        "id": "1b71c03f"
      },
      "outputs": [],
      "source": [
        "I = mping.imread('.\\OpenStreetMap_Montreal.png')\n",
        "plt.imshow(I)\n",
        "plt.show()"
      ]
    },
    {
      "cell_type": "code",
      "execution_count": null,
      "id": "de507941",
      "metadata": {
        "id": "de507941"
      },
      "outputs": [],
      "source": [
        "metro_stations_line_1 = [[14.05154836,  2.22004959],\n",
        "       [15.13790836,  2.73616959],\n",
        "       [16.40851836,  3.37988959],\n",
        "       [17.47221836,  3.64729959],\n",
        "       [18.01638836,  3.91712959],\n",
        "       [18.10515836,  4.92571959],\n",
        "       [17.76756836,  5.73993959],\n",
        "       [16.57472836,  6.18477958],\n",
        "       [15.95520836,  7.01626959],\n",
        "       [16.67042836,  7.62148959],\n",
        "       [17.17587836,  8.20547959],\n",
        "       [17.52006836,  8.55582959],\n",
        "       [17.86689836,  9.01298959],\n",
        "       [18.25563836,  9.32241959],\n",
        "       [18.67550836,  9.78364959],\n",
        "       [19.25245836, 10.18019959],\n",
        "       [19.59719836, 10.74746959],\n",
        "       [19.65296836, 11.79422959],\n",
        "       [19.43340836, 12.69765959],\n",
        "       [19.74151836, 13.26030959],\n",
        "       [19.70125836, 14.01446959],\n",
        "       [20.16622836, 14.78435959],\n",
        "       [20.18756836, 15.73013959],\n",
        "       [20.25642836, 16.56151959],\n",
        "       [20.64989836, 17.20974959],\n",
        "       [21.07493836, 17.94619959],\n",
        "       [21.50316836, 18.73170959]]\n",
        "len(metro_stations_line_1)"
      ]
    },
    {
      "cell_type": "code",
      "execution_count": null,
      "id": "c5f89856",
      "metadata": {
        "id": "c5f89856"
      },
      "outputs": [],
      "source": [
        "metro_stations_line_2 = [[ 0.92403836, 14.53674959],\n",
        "       [ 2.36173836, 14.78556959],\n",
        "       [ 5.34042836, 14.70845959],\n",
        "       [ 6.89560836, 14.18925959],\n",
        "       [ 8.23265836, 13.69205959],\n",
        "       [10.09880836, 13.17780959],\n",
        "       [11.23037836, 12.85979959],\n",
        "       [12.86530836, 12.40494959],\n",
        "       [13.87884836, 11.99772959],\n",
        "       [14.63872836, 11.59941959],\n",
        "       [15.83475836, 11.12267959],\n",
        "       [16.37903836, 10.85119959],\n",
        "       [17.78065836, 10.20538959],\n",
        "       [18.67891836,  9.78210959],\n",
        "       [19.16896836,  9.21395959],\n",
        "       [18.84424836,  8.80706959],\n",
        "       [18.45154836,  8.32185959],\n",
        "       [17.99867836,  7.89824959],\n",
        "       [17.57638836,  7.53073959],\n",
        "       [16.94080836,  6.88745959],\n",
        "       [16.57472836,  6.18477959],\n",
        "       [15.86533836,  5.61398959],\n",
        "       [13.98686836,  5.25989959],\n",
        "       [12.21421836,  5.87677959],\n",
        "       [11.34422836,  6.50641959],\n",
        "       [10.75352836,  7.26794959],\n",
        "       [10.18592836,  7.51962959],\n",
        "       [ 8.58344836,  7.51951959],\n",
        "       [ 7.62534836,  8.11439959],\n",
        "       [ 6.16696836,  9.12716959],\n",
        "       [ 5.29125836,  9.67485959]]\n",
        "len(metro_stations_line_2)"
      ]
    },
    {
      "cell_type": "code",
      "execution_count": null,
      "id": "5364bef9",
      "metadata": {
        "id": "5364bef9"
      },
      "outputs": [],
      "source": [
        "metro_stations_line_3 = [[18.68309836,  9.77979959],\n",
        "       [21.75055836,  9.47597959],\n",
        "       [22.96374836, 10.84668959]]\n",
        "len(metro_stations_line_3)"
      ]
    },
    {
      "cell_type": "code",
      "execution_count": null,
      "id": "fd3fe824",
      "metadata": {
        "id": "fd3fe824"
      },
      "outputs": [],
      "source": [
        "metro_stations_line_4 = [[11.34125836,  6.50311959],\n",
        "       [11.82206836,  7.76184959],\n",
        "       [12.44763836,  8.45946959],\n",
        "       [12.98014836,  9.19998959],\n",
        "       [12.74716836, 10.34948959],\n",
        "       [11.83625836, 10.68916959],\n",
        "       [11.69303836, 11.42825959],\n",
        "       [12.20849836, 12.00685959],\n",
        "       [12.87036836, 12.41550959],\n",
        "       [13.50286836, 13.25161959],\n",
        "       [14.17584836, 14.00676959],\n",
        "       [14.39430836, 14.66038959]]\n",
        "len(metro_stations_line_4)"
      ]
    },
    {
      "cell_type": "code",
      "execution_count": null,
      "id": "070dad84",
      "metadata": {
        "id": "070dad84"
      },
      "outputs": [],
      "source": [
        "nb_of_staions_each_metro_line = [ len(metro_stations_line_1),len(metro_stations_line_2),len(metro_stations_line_3),len(metro_stations_line_4) ]\n",
        "print(nb_of_staions_each_metro_line)\n",
        "\n",
        "cumsum_nb_of_staions_each_metro_line = np.cumsum( nb_of_staions_each_metro_line )\n",
        "print(cumsum_nb_of_staions_each_metro_line)"
      ]
    },
    {
      "cell_type": "code",
      "execution_count": null,
      "id": "f1d2dd37",
      "metadata": {
        "id": "f1d2dd37"
      },
      "outputs": [],
      "source": [
        "connection_between_lines = [[7, 47], [14, 40], [14, 58], [34, 69], [40, 58], [51, 61]]"
      ]
    },
    {
      "cell_type": "code",
      "execution_count": null,
      "id": "d9afac74",
      "metadata": {
        "id": "d9afac74"
      },
      "outputs": [],
      "source": [
        "g = nx.DiGraph()\n",
        "\n",
        "all_stations = metro_stations_line_1 +metro_stations_line_2 +metro_stations_line_3 +metro_stations_line_4\n",
        "nb_of_all_stations = len(all_stations)\n",
        "\n",
        "\n",
        "g.add_nodes_from([i for i in range(nb_of_all_stations)])\n",
        "\n",
        "all_edges = [(i,i+1) for i in range(nb_of_all_stations) if i!= 26 and i!= 57 and i!= 60 and i!= 72] + connection_between_lines\n",
        "g.add_edges_from(all_edges)\n",
        "\n",
        "node_color=[\"green\" for i in range(len(metro_stations_line_1))]+[\"orange\" for i in range(len(metro_stations_line_2))]+[\"y\" for i in range(len(metro_stations_line_3))]+[\"blue\" for i in range(len(metro_stations_line_4))]\n",
        "node_size=[50 for i in range(73)]\n",
        "\n",
        "fig=plt.figure(figsize=(16,16))\n",
        "nx.draw(g, all_stations, with_labels=True,node_color=node_color, node_size = node_size)\n",
        "plt.show()"
      ]
    },
    {
      "cell_type": "code",
      "execution_count": null,
      "id": "5fbbff2c",
      "metadata": {
        "id": "5fbbff2c"
      },
      "outputs": [],
      "source": [
        "# metro dwell time for each station (hour)\n",
        "dwell_time_1 = list(np.array([1,2,1,1,2,1,2,2,1,2,1,1,1,1,1,1,2,2,1,1,2,1,2,1,1,3])/60) #3 min/60 = 1/20 h\n",
        "\n",
        "dwell_time_2 = list(np.array([1,3,2,1,2,1,2,1,2,1,5,1,1,1,2,2,1,2,1,2,2,2,1,2,1,1,1,2,1,2])/60)\n",
        "\n",
        "dwell_time_3 = list(np.array([2,4])/60)\n",
        "\n",
        "dwell_time_4 = list(np.array([1,1,2,3,2,1,1,1,2,1,2])/60)"
      ]
    },
    {
      "cell_type": "code",
      "execution_count": null,
      "id": "6b8a6c07",
      "metadata": {
        "id": "6b8a6c07"
      },
      "outputs": [],
      "source": [
        "node_ids_line_1 = [i for i in range(cumsum_nb_of_staions_each_metro_line[0])]\n",
        "node_ids_line_2 = [i for i in range(cumsum_nb_of_staions_each_metro_line[0],cumsum_nb_of_staions_each_metro_line[1])]\n",
        "node_ids_line_3 = [i for i in range(cumsum_nb_of_staions_each_metro_line[1],cumsum_nb_of_staions_each_metro_line[2])]\n",
        "node_ids_line_4 = [i for i in range(cumsum_nb_of_staions_each_metro_line[2],cumsum_nb_of_staions_each_metro_line[3])]\n",
        "list_waiting_time = [7/60,7/60,7.5/60,7.5/60] # 7.5 mins/60 = 0.125 hour\n",
        "#create bus_line\n",
        "metro_line_1 = ptline.PTline( 'Angrignon--Honoré-Beaugrand',list_waiting_time[0],\n",
        "                                 node_ids_line_1,\n",
        "                                 dict( zip(node_ids_line_1, metro_stations_line_1)),\n",
        "                                 dwell_time_1 )\n",
        "\n",
        "\n",
        "metro_line_2 = ptline.PTline( 'Côte-Vert--Montmorency',list_waiting_time[1],\n",
        "                                 node_ids_line_2,\n",
        "                                 dict( zip(node_ids_line_2, metro_stations_line_2)),\n",
        "                                 dwell_time_2 )\n",
        "\n",
        "metro_line_3 = ptline.PTline( 'Berri–UQAM--Longueuil–Université-de-Sherbrooke',list_waiting_time[2],\n",
        "                                 node_ids_line_3,\n",
        "                                 dict( zip(node_ids_line_3, metro_stations_line_3)),\n",
        "                                 dwell_time_3 )\n",
        "\n",
        "metro_line_4 = ptline.PTline( 'Snowdon--Saint-Michel',list_waiting_time[3],\n",
        "                                 node_ids_line_4,\n",
        "                                 dict( zip(node_ids_line_4, metro_stations_line_4)),\n",
        "                                 dwell_time_4 )"
      ]
    },
    {
      "cell_type": "code",
      "execution_count": null,
      "id": "4c13fc22",
      "metadata": {
        "id": "4c13fc22"
      },
      "outputs": [],
      "source": [
        "#create Public transit graph\n",
        "g  = graph.Graph( list_waiting_time )\n",
        "\n",
        "#add each bus_line\n",
        "g.add_metro_line(metro_line_1)\n",
        "g.add_metro_line(metro_line_2)\n",
        "g.add_metro_line(metro_line_3)\n",
        "g.add_metro_line(metro_line_4)\n",
        "\n",
        "#add transfer station and time  (7,47,list_waiting_time[1]+2/60) means from line_1 (station 7) tansfer to line_2 (station 47),\n",
        "#                                the time cost is average waiting time of line 2 + 2 mins of walking\n",
        "connection_and_transfer_time = [(7, 47,list_waiting_time[1]+2/60), (47, 7,list_waiting_time[0]+2/60),\n",
        "                                (14, 40,list_waiting_time[1]+2/60),(40, 14,list_waiting_time[0]+2/60),\n",
        "                                (14, 58,list_waiting_time[2]+2/60),(58, 14,list_waiting_time[0]+2/60),\n",
        "                                (34, 69,list_waiting_time[3]+2/60),(69, 34,list_waiting_time[1]+2/60),\n",
        "                                (40, 58,list_waiting_time[2]+2/60),(58, 40,list_waiting_time[1]+2/60),\n",
        "                                (51, 61,list_waiting_time[3]+2/60),(61, 51,list_waiting_time[1]+2/60)]\n",
        "\n",
        "g.add_connection(connection_and_transfer_time)\n",
        "#np.save( 'test_set.npy',graph_dic )"
      ]
    },
    {
      "cell_type": "code",
      "execution_count": null,
      "id": "efb32eb4",
      "metadata": {
        "id": "efb32eb4"
      },
      "outputs": [],
      "source": [
        "g.show()"
      ]
    },
    {
      "cell_type": "code",
      "execution_count": null,
      "id": "6daf6b13",
      "metadata": {
        "id": "6daf6b13"
      },
      "outputs": [],
      "source": [
        "g.add_centroids()"
      ]
    },
    {
      "cell_type": "code",
      "execution_count": null,
      "id": "6c320a4c",
      "metadata": {
        "id": "6c320a4c"
      },
      "outputs": [],
      "source": [
        "g.show()"
      ]
    },
    {
      "cell_type": "code",
      "execution_count": null,
      "id": "b22cf8a3",
      "metadata": {
        "id": "b22cf8a3"
      },
      "outputs": [],
      "source": [
        "g.add_edge_between_centroids()"
      ]
    },
    {
      "cell_type": "code",
      "execution_count": null,
      "id": "166b201a",
      "metadata": {
        "id": "166b201a"
      },
      "outputs": [],
      "source": [
        "g.show()"
      ]
    },
    {
      "cell_type": "code",
      "execution_count": null,
      "id": "b0084734",
      "metadata": {
        "id": "b0084734"
      },
      "outputs": [],
      "source": [
        "g.add_edge_between_centroid_and_station()"
      ]
    },
    {
      "cell_type": "code",
      "execution_count": null,
      "id": "f15f1a69",
      "metadata": {
        "scrolled": true,
        "id": "f15f1a69"
      },
      "outputs": [],
      "source": [
        "# g.show()"
      ]
    },
    {
      "cell_type": "code",
      "execution_count": null,
      "id": "cf13182b",
      "metadata": {
        "id": "cf13182b"
      },
      "outputs": [],
      "source": [
        "import time\n",
        "t_0 = time.time()\n",
        "Initial_acc = np.array(g.get_acc()[1])\n",
        "t_1 = time.time()\n",
        "print(t_1 - t_0)"
      ]
    },
    {
      "cell_type": "code",
      "execution_count": null,
      "id": "94b37c6b",
      "metadata": {
        "id": "94b37c6b"
      },
      "outputs": [],
      "source": [
        "centroid_polulation = g.centroid_polulation\n",
        "total_polulation = g.total_polulation\n",
        "print(total_polulation)"
      ]
    },
    {
      "cell_type": "markdown",
      "id": "24922f22",
      "metadata": {
        "id": "24922f22"
      },
      "source": [
        "## 2. AccEq-DRT Algorithm"
      ]
    },
    {
      "cell_type": "code",
      "execution_count": null,
      "id": "44531f0a",
      "metadata": {
        "scrolled": true,
        "id": "44531f0a"
      },
      "outputs": [],
      "source": [
        "# All alternative areas\n",
        "list_area = []\n",
        "for i in range(80,580):\n",
        "    if i in g.centroid_node and i+1 in g.centroid_node and i+20 in g.centroid_node and i+21 in g.centroid_node and i+40 in g.centroid_node and i+41 in g.centroid_node:\n",
        "\n",
        "        list_area_population = [centroid_polulation[i],\n",
        "                                centroid_polulation[i+1],\n",
        "                                centroid_polulation[i+20],\n",
        "                                centroid_polulation[i+21],\n",
        "                                centroid_polulation[i+40],\n",
        "                                centroid_polulation[i+41] ]\n",
        "\n",
        "        if len( [ i for i in list_area_population if i == 0 ] ) <= 2:\n",
        "            # We only consider areas that contain at most 2 0-population tiles\n",
        "            list_area.append([i,i+1,i+20,i+21,i+40,i+41])\n",
        "\n",
        "len(list_area)\n",
        "\n",
        "# 0 zero population: 206\n",
        "# 1 zero population: 27\n",
        "# 2 zero population: 15\n",
        "# 3 zero population: 3\n",
        "# 4 zero population: 6\n",
        "# 5 zero population: 4\n",
        "# 6 zero population: 2\n",
        "# 248 = 206 + 27 + 15"
      ]
    },
    {
      "cell_type": "code",
      "source": [
        "def find_s1(area,g):\n",
        "  # Find point \"s_1\" (see the paper) that is the first point visited by the\n",
        "  # DRT bus when it enters the area\n",
        "\n",
        "  s1 = (g.centroid_to_pos[area[4]] + g.centroid_to_pos[area[5]])/2 + np.array([0.5,0])\n",
        "  return s1"
      ],
      "metadata": {
        "id": "TFfYcygH2FfF"
      },
      "id": "TFfYcygH2FfF",
      "execution_count": null,
      "outputs": []
    },
    {
      "cell_type": "code",
      "source": [
        "def findClosestStation(area,g):\n",
        "    DRT_s_1 = find_s1(area,g)\n",
        "    distance_station_area_list = []\n",
        "    for i in g.metro_node:\n",
        "        metro_pos_i = np.array(g.metro_pos[i])\n",
        "        distance_station_area_list.append( np.linalg.norm( metro_pos_i - DRT_s_1 ) )\n",
        "\n",
        "    closest_station = np.argmin( distance_station_area_list )\n",
        "    return closest_station"
      ],
      "metadata": {
        "id": "j6FkbOCt2kKe"
      },
      "id": "j6FkbOCt2kKe",
      "execution_count": null,
      "outputs": []
    },
    {
      "cell_type": "code",
      "execution_count": null,
      "id": "0b3f99eb",
      "metadata": {
        "id": "0b3f99eb"
      },
      "outputs": [],
      "source": [
        "def findWorstArea(g):\n",
        "# Find area with worst Score and its nearest metro station\n",
        "\n",
        "    alpha = 0.25\n",
        "\n",
        "    list_acc =  g.get_acc()[1]\n",
        "\n",
        "    # Get the ranks of centroids related to accessibility and population\n",
        "    # index_acc_dict: dict{ centroid index -> rank of acc }\n",
        "    # index_popu_dict: dict{ centroid index -> rank of population }\n",
        "    index_acc = np.argsort(list_acc)\n",
        "    index_popu = np.argsort(list(centroid_polulation.values()))\n",
        "    index_acc_dict = {}\n",
        "    index_popu_dict = {}\n",
        "    for i in range(len(g.centroid_node)):\n",
        "        index_acc_dict[g.centroid_node[index_acc[i]]] = i\n",
        "        index_popu_dict[g.centroid_node[index_popu[i]]] = i\n",
        "\n",
        "\n",
        "    score_list = []\n",
        "    for area_ in list_area:\n",
        "        score_ = [] # list of scores of the tiles belonging to area\n",
        "        for i in area_:\n",
        "            if centroid_polulation[i] == 0:\n",
        "                score_.append(0)\n",
        "            else:\n",
        "                # score(c_i) = alpha*population_rank(c_i) + （1-alpha)*(total_nb_centroids - accessibility_rank(c_i) )\n",
        "                score_.append( alpha*index_popu_dict[i]+ (1-alpha)*(len(g.centroid_node)-index_acc_dict[i]) )\n",
        "\n",
        "        score_list.append( np.sum(score_)/len(np.nonzero(score_)[0]) )\n",
        "\n",
        "    worst_area = list_area[np.argmax(score_list)]\n",
        "\n",
        "    # The following line is not strictly needed\n",
        "    score_list.sort(reverse=True) #print('worst 30 score_list :',score_list[:30])\n",
        "\n",
        "    closest_station = findClosestStation(area,g)\n",
        "\n",
        "    return [closest_station,worst_area] #[ nearest metro station, worst area ]"
      ]
    },
    {
      "cell_type": "code",
      "execution_count": null,
      "id": "8cbfc184",
      "metadata": {
        "id": "8cbfc184"
      },
      "outputs": [],
      "source": [
        "def calcualtePho(metro_station_s_A,centroid_i,g):\n",
        "# Calculate what proportion of demands go from centroid_i to somewhere else via metro_station_s_A.\n",
        "\n",
        "    beta = 0.12\n",
        "    length =  nx.all_pairs_dijkstra_path_length(g.g)\n",
        "    index = []\n",
        "    for i, dict_ in length:\n",
        "        if i == centroid_i:\n",
        "            a = []\n",
        "            for j in list(dict_.keys()):\n",
        "                if j in g.centroid_node and j!=i:\n",
        "                    index.append( j )\n",
        "                    a.append( centroid_polulation[j]*np.exp( - beta*dict_[j]  ) )\n",
        "            a = np.array(a)\n",
        "    b = a/np.sum(a)\n",
        "    c = {}\n",
        "    for k in range(len(b)):\n",
        "        c[index[k]] = b[k] # if index[k] = j, b[k] represents the proportion of demands go from centroid_i centroid j.\n",
        "\n",
        "    pho = 0.0\n",
        "    path = nx.all_pairs_dijkstra_path(g.g)\n",
        "    for i, dict_ in path:\n",
        "        if i== centroid_i:\n",
        "            for j in dict_.keys():\n",
        "                if j in g.centroid_node and j!=i and metro_station_s_A in dict_[j]:\n",
        "                    pho = pho + c[j]\n",
        "    return pho"
      ]
    },
    {
      "cell_type": "code",
      "execution_count": null,
      "id": "b916f01a",
      "metadata": {
        "id": "b916f01a"
      },
      "outputs": [],
      "source": [
        "from sympy import *\n",
        "\n",
        "def getHx(n_bus,pho,distance_station_area):\n",
        "    \"\"\"\n",
        "    Solve the system of equations to find the headway of the DRT into an area\n",
        "    \"\"\"\n",
        "    v_bus = 25 #25 km/h\n",
        "    l = 1      #1 km\n",
        "    tau_s = 32/3600 #32 s\n",
        "    tau_T = 60/3600 #60 s\n",
        "    h = symbols('h')\n",
        "    #TODO: for the moment, we assume that the DRT demand is symmetric, i.e.,\n",
        "    #  the demand out (pax using DRT as first mile) = demand in (pax using DRT in their last mile).\n",
        "    #  This assumption might not be true and should be removed\n",
        "    h_x = solve( (2*distance_station_area + 6*l*(2*pho*l*l*h)/(2*pho*l*l*h+1)+(2*pho*l*l*h)*l/3+l*4/3)/v_bus + tau_s*(2*pho*l*l*h) + tau_T - n_bus*h  , h)\n",
        "\n",
        "    #TODO: Take the smallest postive solution instead of what we do now\n",
        "    if len(h_x) == 0:\n",
        "        print('bug h_x no solution!') #TODO: We should rise an exception instead\n",
        "    elif len(h_x) == 1:\n",
        "        hx = float(h_x[0])\n",
        "        cycle_length = ( n_bus*hx +  tau_T + tau_s*(2*pho*l*l*h) ) * v_bus\n",
        "        return hx, cycle_length\n",
        "    else:\n",
        "#         print('2 solutions',float(h_x[0]),float(h_x[1]))\n",
        "        hx = max( float(h_x[0]),float(h_x[1]) )\n",
        "        cycle_length = ( n_bus*hx +  tau_T + tau_s*(2*pho*l*l*h) ) * v_bus\n",
        "        return hx, cycle_length"
      ]
    },
    {
      "cell_type": "code",
      "execution_count": null,
      "id": "ccd12e8d",
      "metadata": {
        "id": "ccd12e8d"
      },
      "outputs": [],
      "source": [
        "def assignDRT(n_bus,area,g):\n",
        "    \"\"\"\n",
        "    area: is [list_of_tiles_belonging_to_an_area]\n",
        "    \"\"\"\n",
        "    # Assign n_bus DRT buses to current worst area worst_.\n",
        "    v_bus = 25 #25 km/h\n",
        "    metro_station = findClosestStation(area,g)\n",
        "    hx = 0\n",
        "\n",
        "    DRT_s_1 = find_s1(area,g)\n",
        "    metro_station_s_A_pos = np.array(g.metro_pos[metro_station])\n",
        "    distance_station_area = np.linalg.norm( metro_station_s_A_pos - DRT_s_1 )\n",
        "\n",
        "    dict_centroid_walk = {}\n",
        "    for i in area:\n",
        "        dict_centroid_walk[i] = np.linalg.norm( metro_station_s_A_pos - g.centroid_to_pos[i] )/4.5 #walking speed = 4.5 km/h\n",
        "    # For the moment we have a maximum limit of assignment iterations because\n",
        "    # we do all-or-nothing assingment, we in few cases causes the typical\n",
        "    # instability and we could go on an infinite amount of time\n",
        "    #TODO: improve traffic assignment\n",
        "    demand_list_all_steps = []\n",
        "    for i in range(5):\n",
        "        print('iteration',i)\n",
        "        if i < 4:# calculate demand via shortest path\n",
        "            demand_total = 0.0\n",
        "            demand_list = []\n",
        "            for j in area:\n",
        "                trip_generation_rate = 0.16\n",
        "                pt_mode_share = 0.124\n",
        "                demand_ = calcualtePho(metro_station,j,g)*centroid_polulation[j]*trip_generation_rate*pt_mode_share  # xxxx demands/km2/hour\n",
        "                demand_total = demand_total + demand_\n",
        "                demand_list.append( demand_ )\n",
        "        else:# the last time, calculate demand by taking average of the demands before\n",
        "            demand_list_all_steps = np.array(demand_list_all_steps)\n",
        "            demand_list = list( np.mean( demand_list_all_steps, axis=0 ) )\n",
        "            demand_total = np.sum( demand_list )\n",
        "\n",
        "        hx, cycle_length = getHx(n_bus,demand_total,distance_station_area)\n",
        "        if i == 4:\n",
        "            print( 'headway hx', hx ,'h')\n",
        "            print( 'cycle_length', cycle_length ,'km')\n",
        "\n",
        "        if hx <= 0:\n",
        "            continue #need to continue to the next iteration\n",
        "        else:\n",
        "            #calculate alpha from demand_list current\n",
        "            alpha_0_list = []\n",
        "            phi_i_list = [demand_list[5],demand_list[3],demand_list[1],demand_list[0],demand_list[2],demand_list[4]]\n",
        "            for i in range(len(phi_i_list)):\n",
        "                if i==5:\n",
        "                    alpha_0_list.append( phi_i_list[i]/2/np.sum(phi_i_list) )\n",
        "                else:\n",
        "                    alpha_0_list.append( (phi_i_list[i]/2 + np.sum(phi_i_list[i+1:]))/np.sum(phi_i_list) )\n",
        "            list_1 = [alpha_0_list[3],alpha_0_list[2],alpha_0_list[4],alpha_0_list[1],alpha_0_list[5],alpha_0_list[0]]\n",
        "\n",
        "            #update demand_list by comparing time cost of walking and DRT\n",
        "            centroids_choose_walking = []\n",
        "            for tile in range(len(area)):\n",
        "                j = area[tile]\n",
        "                time_alpha = list_1[tile]\n",
        "                t_DRT = hx/2+ time_alpha*(hx*n_bus-2*distance_station_area/v_bus) + distance_station_area/v_bus\n",
        "                t_walking = dict_centroid_walk[j]\n",
        "                if t_walking < t_DRT:\n",
        "                    demand_list[tile] = 0.0\n",
        "                    centroids_choose_walking.append( j )\n",
        "\n",
        "            demand_list_all_steps.append( demand_list )\n",
        "\n",
        "            #update new alpha from new demand_list\n",
        "            alpha_0_list = []\n",
        "            phi_i_list = [demand_list[5],demand_list[3],demand_list[1],demand_list[0],demand_list[2],demand_list[4]]\n",
        "            for i in range(len(phi_i_list)):\n",
        "                if i==5:\n",
        "                    alpha_0_list.append( phi_i_list[i]/2/np.sum(phi_i_list) )\n",
        "                else:\n",
        "                    alpha_0_list.append( (phi_i_list[i]/2 + np.sum(phi_i_list[i+1:]))/np.sum(phi_i_list) )\n",
        "            list_1 = [alpha_0_list[3],alpha_0_list[2],alpha_0_list[4],alpha_0_list[1],alpha_0_list[5],alpha_0_list[0]]\n",
        "\n",
        "            #update new alpha from new demand_list\n",
        "            for tile in range(len(area)):\n",
        "                j = area[tile]\n",
        "                time_alpha = list_1[tile]\n",
        "                #print('centroid and time',j,  time_alpha*(hx*n_bus-2*distance_station_area/v_bus) + distance_station_area/v_bus)\n",
        "                if j in centroids_choose_walking:\n",
        "                    t_walking = dict_centroid_walk[j]\n",
        "                    g.add_connection( [(j,metro_station, t_walking)] )\n",
        "                    g.add_connection( [(metro_station,j, t_walking)] )\n",
        "                else:\n",
        "                    t_DRT = hx/2+ time_alpha*(hx*n_bus-2*distance_station_area/v_bus) + distance_station_area/v_bus\n",
        "                    g.add_connection( [(j,metro_station, t_DRT)] )\n",
        "                    g.add_connection( [(metro_station,j, t_DRT)] )\n",
        "\n",
        "\n",
        "    return hx"
      ]
    },
    {
      "cell_type": "code",
      "execution_count": null,
      "id": "42435a4c",
      "metadata": {
        "id": "42435a4c"
      },
      "outputs": [],
      "source": [
        "def testHx(n_bus,area,g):\n",
        "\n",
        "    metro_station = findClosestStation(area, g)\n",
        "\n",
        "    demand_total = 0.0\n",
        "    for j in worst_[1]:\n",
        "        demand_ = calcualtePho(metro_station,j,g)*centroid_polulation[j]*0.16\n",
        "        demand_total = demand_total + demand_\n",
        "\n",
        "    DRT_s_1 = find_s1(area,g)\n",
        "    metro_station_s_A_pos = np.array(g.metro_pos[metro_station])\n",
        "    distance_station_area = np.linalg.norm( metro_station_s_A_pos - DRT_s_1 )\n",
        "\n",
        "\n",
        "    hx, cycle_length = getHx(n_bus,demand_total,distance_station_area)\n",
        "    if hx <= 0:\n",
        "        return 0\n",
        "    else:\n",
        "        return 1"
      ]
    },
    {
      "cell_type": "code",
      "execution_count": null,
      "id": "6901313b",
      "metadata": {
        "id": "6901313b"
      },
      "outputs": [],
      "source": [
        "import time\n",
        "t_0 = time.time()"
      ]
    },
    {
      "cell_type": "code",
      "execution_count": null,
      "id": "026689f4",
      "metadata": {
        "scrolled": true,
        "id": "026689f4"
      },
      "outputs": [],
      "source": [
        "### MAIN PROCEDURE\n",
        "\n",
        "list_opt_acc = {}\n",
        "\n",
        "\n",
        "dict_worst_station_area = {}\n",
        "n_bus = 1500\n",
        "steps = int(n_bus/10)\n",
        "for i in range(steps):\n",
        "    print('Step',i,':')\n",
        "    worst_ = findWorstArea(g)\n",
        "    print('    Current worst area',worst_[1],' and metro station nearest:',worst_[0])\n",
        "    print('    Accessibility before',[g.centroid_to_acc[p] for p in worst_[1]] )\n",
        "\n",
        "    metro_station = worst_[0]\n",
        "    first_centroid = worst_[1][0] #1st centroid of the area\n",
        "    if (metro_station,first_centroid) in dict_worst_station_area.keys():\n",
        "        # we already previously added DRT buses to this area. We just increase by 10\n",
        "\n",
        "        dict_worst_station_area[ (metro_station,first_centroid) ] = dict_worst_station_area[ (worst_[0],worst_[1][0]) ] + 10\n",
        "    else:\n",
        "        dict_worst_station_area[ (metro_station,first_centroid) ] = 10\n",
        "\n",
        "    print('    DRT allocation:')\n",
        "    for key,value in dict_worst_station_area.items():\n",
        "        print('        Metro station and 1st centroid {key} -> {value} buses'.format(key = key, value = value))\n",
        "\n",
        "    if testHx(dict_worst_station_area[ (worst_[0],worst_[1][0]) ],worst_[1],g) == 0:\n",
        "        print('    Nb of buses too small for (station, area) {key}  -----> Not change'.format(key = (worst_) ) )\n",
        "        print('--------------------------------------------------------------------------')\n",
        "\n",
        "        # To keep historical data, we save our intermediary results every 5 steps\n",
        "        if (i+1)%5 == 0:\n",
        "            list_opt_acc[10*(i+1)] = np.array( g.get_acc()[1] )\n",
        "\n",
        "\n",
        "        continue # This \"continue\" is useless\n",
        "    else:\n",
        "        DRT_buses_currently_deployed_in_the_area = dict_worst_station_area[ (metro_station,first_centroid) ]\n",
        "        assignDRT(DRT_buses_currently_deployed_in_the_area, worst_[1], g)\n",
        "        ooo = g.get_acc()\n",
        "        print('    Acc after',[g.centroid_to_acc[p] for p in worst_[1]] )\n",
        "        print('----------------------------------------------------------------')\n",
        "\n",
        "        if (i+1)%5 ==0:\n",
        "            list_opt_acc[10*(i+1)] = np.array( g.get_acc()[1] )"
      ]
    },
    {
      "cell_type": "code",
      "execution_count": null,
      "id": "c384c119",
      "metadata": {
        "id": "c384c119"
      },
      "outputs": [],
      "source": [
        "t_1 = time.time()\n",
        "print(t_1-t_0)"
      ]
    },
    {
      "cell_type": "code",
      "execution_count": null,
      "id": "a1b06166",
      "metadata": {
        "id": "a1b06166"
      },
      "outputs": [],
      "source": [
        "# We print the history of the optimization\n",
        "# list_opt_acc is a dictionary of {(DRT used in total, [list of acc. of all tiles])}\n",
        "list_opt_acc.keys()"
      ]
    },
    {
      "cell_type": "code",
      "execution_count": null,
      "id": "3e81b1f1",
      "metadata": {
        "id": "3e81b1f1"
      },
      "outputs": [],
      "source": [
        "@"
      ]
    },
    {
      "cell_type": "markdown",
      "id": "2b2a006c",
      "metadata": {
        "id": "2b2a006c"
      },
      "source": [
        "## 3. Analyze results"
      ]
    },
    {
      "cell_type": "code",
      "execution_count": null,
      "id": "5d04b27a",
      "metadata": {
        "id": "5d04b27a"
      },
      "outputs": [],
      "source": [
        "DRT allocation:\n",
        "    Bus stop 28  [] -> 210 buses          people/bus\n",
        "    in-bus time（） [0.83,0.98,0.53,1.01,0.24,1.13] pho 2812\n"
      ]
    },
    {
      "cell_type": "code",
      "execution_count": null,
      "id": "24fec1d0",
      "metadata": {
        "id": "24fec1d0"
      },
      "outputs": [],
      "source": [
        "in_bus_time = np.array([\n",
        "    [0.83,0.98,0.53,1.01,0.24,1.13],\n",
        "    [0.51,0.61,0.37,0.70,0.18,0.79],\n",
        "    [0.25,0.25,0.25,0.25,0.19,0.37],\n",
        "    [0.14,0.27,0.13,0.55,0.13,0.75],\n",
        "    [0.65,0.70,0.52,0.79,0.25,0.92],\n",
        "    [0.48,0.55,0.40,0.61,0.23,0.66],\n",
        "    [3.02,5.36,0.96,7.30,0.09,8.08],\n",
        "    [0.79,1.24,0.57,1.81,0.24,2.27],\n",
        "    [0.50,1.25,0.10,2.50,0.10,3.80],\n",
        "    [1.29,1.67,0.90,1.83,0.44,1.84],\n",
        "    [0.12,0.17,0.07,1.51,0.03,4.13]\n",
        "])"
      ]
    },
    {
      "cell_type": "code",
      "execution_count": null,
      "id": "ecf4e06d",
      "metadata": {
        "id": "ecf4e06d"
      },
      "outputs": [],
      "source": [
        "in_bus_time"
      ]
    },
    {
      "cell_type": "code",
      "execution_count": null,
      "id": "7a6f8ce0",
      "metadata": {
        "id": "7a6f8ce0"
      },
      "outputs": [],
      "source": [
        "poi11 =np.reshape(in_bus_time,-1)\n",
        "plt.bar(range(len(poi11)),poi11)"
      ]
    },
    {
      "cell_type": "code",
      "execution_count": null,
      "id": "19a97e96",
      "metadata": {
        "id": "19a97e96"
      },
      "outputs": [],
      "source": [
        "len(people_per_bus) + 1"
      ]
    },
    {
      "cell_type": "code",
      "execution_count": null,
      "id": "01330a7b",
      "metadata": {
        "id": "01330a7b"
      },
      "outputs": [],
      "source": [
        "people_per_bus = [ 14,11,28,23,12,36,21,19,21,16 ]"
      ]
    },
    {
      "cell_type": "code",
      "execution_count": null,
      "id": "d9b36132",
      "metadata": {
        "id": "d9b36132"
      },
      "outputs": [],
      "source": [
        "min(people_per_bus)"
      ]
    },
    {
      "cell_type": "code",
      "execution_count": null,
      "id": "a150e1b3",
      "metadata": {
        "id": "a150e1b3"
      },
      "outputs": [],
      "source": [
        "max(people_per_bus)"
      ]
    },
    {
      "cell_type": "code",
      "execution_count": null,
      "id": "c22bca54",
      "metadata": {
        "id": "c22bca54"
      },
      "outputs": [],
      "source": [
        "np.mean(people_per_bus)"
      ]
    },
    {
      "cell_type": "code",
      "execution_count": null,
      "id": "d8a79b6d",
      "metadata": {
        "id": "d8a79b6d"
      },
      "outputs": [],
      "source": [
        "plt.bar(range(len(people_per_bus)),people_per_bus)"
      ]
    },
    {
      "cell_type": "code",
      "execution_count": null,
      "id": "7ab1d8df",
      "metadata": {
        "id": "7ab1d8df"
      },
      "outputs": [],
      "source": [
        "plt.boxplot(people_per_bus)"
      ]
    },
    {
      "cell_type": "code",
      "execution_count": null,
      "id": "afb747ee",
      "metadata": {
        "id": "afb747ee"
      },
      "outputs": [],
      "source": [
        "3135.6175957356027 / 50"
      ]
    },
    {
      "cell_type": "code",
      "execution_count": null,
      "id": "35a3da5d",
      "metadata": {
        "id": "35a3da5d"
      },
      "outputs": [],
      "source": [
        "@"
      ]
    }
  ],
  "metadata": {
    "kernelspec": {
      "display_name": "Python 3 (ipykernel)",
      "language": "python",
      "name": "python3"
    },
    "language_info": {
      "codemirror_mode": {
        "name": "ipython",
        "version": 3
      },
      "file_extension": ".py",
      "mimetype": "text/x-python",
      "name": "python",
      "nbconvert_exporter": "python",
      "pygments_lexer": "ipython3",
      "version": "3.9.13"
    },
    "colab": {
      "provenance": [],
      "toc_visible": true,
      "include_colab_link": true
    }
  },
  "nbformat": 4,
  "nbformat_minor": 5
}